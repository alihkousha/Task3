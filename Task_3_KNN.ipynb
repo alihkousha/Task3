{
 "cells": [
  {
   "cell_type": "code",
   "execution_count": 1,
   "id": "1a14dbaa",
   "metadata": {},
   "outputs": [],
   "source": [
    "import os"
   ]
  },
  {
   "cell_type": "code",
   "execution_count": 2,
   "id": "f9ab7411",
   "metadata": {},
   "outputs": [],
   "source": [
    "import pandas as pd\n",
    "import numpy as np\n",
    "\n",
    "df = pd.read_csv(os.path.join(os.getcwd(),'Data','Amazon Search Terms_Search Terms_US.csv')).sample(n=1000,ignore_index=True)"
   ]
  },
  {
   "cell_type": "code",
   "execution_count": 3,
   "id": "5950dc4d",
   "metadata": {},
   "outputs": [],
   "source": [
    "from gensim.parsing.preprocessing import remove_stopwords\n",
    "import string\n",
    "from nltk.stem import PorterStemmer\n",
    "from nltk.tokenize import word_tokenize\n",
    "import webcolors"
   ]
  },
  {
   "cell_type": "code",
   "execution_count": 4,
   "id": "d68e224f",
   "metadata": {},
   "outputs": [],
   "source": [
    "from sklearn.neighbors import NearestNeighbors"
   ]
  },
  {
   "cell_type": "code",
   "execution_count": 5,
   "id": "1df02330",
   "metadata": {},
   "outputs": [],
   "source": [
    "from sklearn.feature_extraction.text import TfidfVectorizer"
   ]
  },
  {
   "cell_type": "code",
   "execution_count": 6,
   "id": "b4b50f6f",
   "metadata": {},
   "outputs": [],
   "source": [
    "product_list = list()\n",
    "for i in range(len(df['#1 Product Title'])):\n",
    "    for j in range(1,4):\n",
    "        product_list.append([df.loc[i,'Search Term'],df.loc[i,f'#{j} Product Title']])"
   ]
  },
  {
   "cell_type": "code",
   "execution_count": 7,
   "id": "1343ace3",
   "metadata": {},
   "outputs": [],
   "source": [
    "df = pd.DataFrame(product_list,columns=['Search Term','Product Title'])"
   ]
  },
  {
   "cell_type": "code",
   "execution_count": 8,
   "id": "358ffb09",
   "metadata": {},
   "outputs": [],
   "source": [
    "Y,X = df[['Product Title']], df[['Search Term']]"
   ]
  },
  {
   "cell_type": "code",
   "execution_count": 9,
   "id": "3b54c7f6",
   "metadata": {},
   "outputs": [],
   "source": [
    "Y_raw,X_raw = Y.copy(),X.copy()"
   ]
  },
  {
   "cell_type": "code",
   "execution_count": 10,
   "id": "d2df95e2",
   "metadata": {},
   "outputs": [
    {
     "data": {
      "text/plain": [
       "(                 Search Term\n",
       " 0                 anine bing\n",
       " 1                 anine bing\n",
       " 2                 anine bing\n",
       " 3                    guylian\n",
       " 4                    guylian\n",
       " ...                      ...\n",
       " 2995  dinosaur costume adult\n",
       " 2996  dinosaur costume adult\n",
       " 2997        harness lingerie\n",
       " 2998        harness lingerie\n",
       " 2999        harness lingerie\n",
       " \n",
       " [3000 rows x 1 columns],\n",
       "                                           Product Title\n",
       " 0        ANINE BING Women's Arlo Desert Road Sweatshirt\n",
       " 1                   ANINE BING Women's Vintage Bing Tee\n",
       " 2        ANINE BING Women's Ramona Sweatshirt AB x to B\n",
       " 3     GuyLian Belgian Chocolate Gift Box, Includes S...\n",
       " 4     Guylian Belgian Chocolate Seashells (250g) - P...\n",
       " ...                                                 ...\n",
       " 2995  Inflatable Dinosaur Costume Blow up Triceratop...\n",
       " 2996  Decalare Adult/Kids Size Inflatable T-REX Dino...\n",
       " 2997  LIVE4COOL Women Harness Cupless Cage Sexy Bra ...\n",
       " 2998  Women's Punk Cut Out Harness Body Full Strappy...\n",
       " 2999  PETMHS Women Sexy Cage Body Harness Lingerie S...\n",
       " \n",
       " [3000 rows x 1 columns])"
      ]
     },
     "execution_count": 10,
     "metadata": {},
     "output_type": "execute_result"
    }
   ],
   "source": [
    "X_raw,Y_raw"
   ]
  },
  {
   "cell_type": "code",
   "execution_count": 11,
   "id": "eb1247c1",
   "metadata": {},
   "outputs": [
    {
     "name": "stderr",
     "output_type": "stream",
     "text": [
      "C:\\Users\\Ali\\AppData\\Local\\Temp\\ipykernel_22860\\1346602226.py:18: SettingWithCopyWarning: \n",
      "A value is trying to be set on a copy of a slice from a DataFrame.\n",
      "Try using .loc[row_indexer,col_indexer] = value instead\n",
      "\n",
      "See the caveats in the documentation: https://pandas.pydata.org/pandas-docs/stable/user_guide/indexing.html#returning-a-view-versus-a-copy\n",
      "  X.loc[:,'Search Term'] = products\n",
      "C:\\Users\\Ali\\AppData\\Local\\Temp\\ipykernel_22860\\1346602226.py:30: SettingWithCopyWarning: \n",
      "A value is trying to be set on a copy of a slice from a DataFrame.\n",
      "Try using .loc[row_indexer,col_indexer] = value instead\n",
      "\n",
      "See the caveats in the documentation: https://pandas.pydata.org/pandas-docs/stable/user_guide/indexing.html#returning-a-view-versus-a-copy\n",
      "  X.loc[:,'Search Term'] = products\n",
      "C:\\Users\\Ali\\AppData\\Local\\Temp\\ipykernel_22860\\1346602226.py:46: SettingWithCopyWarning: \n",
      "A value is trying to be set on a copy of a slice from a DataFrame.\n",
      "Try using .loc[row_indexer,col_indexer] = value instead\n",
      "\n",
      "See the caveats in the documentation: https://pandas.pydata.org/pandas-docs/stable/user_guide/indexing.html#returning-a-view-versus-a-copy\n",
      "  X.loc[:,'Search Term'] = products\n",
      "C:\\Users\\Ali\\AppData\\Local\\Temp\\ipykernel_22860\\1346602226.py:20: SettingWithCopyWarning: \n",
      "A value is trying to be set on a copy of a slice from a DataFrame.\n",
      "Try using .loc[row_indexer,col_indexer] = value instead\n",
      "\n",
      "See the caveats in the documentation: https://pandas.pydata.org/pandas-docs/stable/user_guide/indexing.html#returning-a-view-versus-a-copy\n",
      "  X.loc[:,'Product Title'] = products\n",
      "C:\\Users\\Ali\\AppData\\Local\\Temp\\ipykernel_22860\\1346602226.py:32: SettingWithCopyWarning: \n",
      "A value is trying to be set on a copy of a slice from a DataFrame.\n",
      "Try using .loc[row_indexer,col_indexer] = value instead\n",
      "\n",
      "See the caveats in the documentation: https://pandas.pydata.org/pandas-docs/stable/user_guide/indexing.html#returning-a-view-versus-a-copy\n",
      "  X.loc[:,'Product Title'] = products\n",
      "C:\\Users\\Ali\\AppData\\Local\\Temp\\ipykernel_22860\\1346602226.py:48: SettingWithCopyWarning: \n",
      "A value is trying to be set on a copy of a slice from a DataFrame.\n",
      "Try using .loc[row_indexer,col_indexer] = value instead\n",
      "\n",
      "See the caveats in the documentation: https://pandas.pydata.org/pandas-docs/stable/user_guide/indexing.html#returning-a-view-versus-a-copy\n",
      "  X.loc[:,'Product Title'] = products\n"
     ]
    }
   ],
   "source": [
    "def stemSentence(sentence):\n",
    "    porter = PorterStemmer()\n",
    "    token_words = word_tokenize(sentence)\n",
    "    stem_sentence = [porter.stem(word) for word in token_words]\n",
    "    return ' '.join(stem_sentence)\n",
    "def Clean_Sequence(X=X,is_X = True):\n",
    "    if is_X:\n",
    "        products = pd.Series(list(X['Search Term']))\n",
    "    else:\n",
    "        products = pd.Series(list(X['Product Title']))\n",
    "    \n",
    "    products = [remove_stopwords(str(x))\\\n",
    "            .translate(str.maketrans('','',string.punctuation))\\\n",
    "            .translate(str.maketrans('','',string.digits))\\\n",
    "            for x in products]\n",
    "    \n",
    "    if is_X:\n",
    "        X.loc[:,'Search Term'] = products\n",
    "    else:\n",
    "        X.loc[:,'Product Title'] = products\n",
    "    \n",
    "    if is_X:\n",
    "        products = pd.Series(list(X['Search Term']))\n",
    "    else:\n",
    "        products = pd.Series(list(X['Product Title']))\n",
    "    \n",
    "    products = pd.Series([stemSentence(str(x)) for x in products])\n",
    "    \n",
    "    if is_X:\n",
    "        X.loc[:,'Search Term'] = products\n",
    "    else:\n",
    "        X.loc[:,'Product Title'] = products\n",
    "    \n",
    "    colors = list(webcolors.CSS3_NAMES_TO_HEX)\n",
    "    colors = [stemSentence(str(x)) for x in colors if x not in ('bisque','blanchedalmond','chocolate','honeydew','lime',\n",
    "                                             'olive','orange','plum','salmon','tomato','wheat')]\n",
    "\n",
    "    if is_X:\n",
    "        products = pd.Series(list(X['Search Term']))\n",
    "    else:\n",
    "        products = pd.Series(list(X['Product Title']))\n",
    "    \n",
    "    products = [' '.join([x for x in str(string).split() if x not in colors]) for string in products]\n",
    "\n",
    "    if is_X:\n",
    "        X.loc[:,'Search Term'] = products\n",
    "    else:\n",
    "        X.loc[:,'Product Title'] = products\n",
    "\n",
    "    return X\n",
    "\n",
    "X = Clean_Sequence(X)\n",
    "Y = Clean_Sequence(Y,is_X=False)"
   ]
  },
  {
   "cell_type": "code",
   "execution_count": 12,
   "id": "761ac50e",
   "metadata": {},
   "outputs": [
    {
     "data": {
      "text/plain": [
       "(                Search Term\n",
       " 0                 anin bing\n",
       " 1                 anin bing\n",
       " 2                 anin bing\n",
       " 3                   guylian\n",
       " 4                   guylian\n",
       " ...                     ...\n",
       " 2995  dinosaur costum adult\n",
       " 2996  dinosaur costum adult\n",
       " 2997            har lingeri\n",
       " 2998            har lingeri\n",
       " 2999            har lingeri\n",
       " \n",
       " [3000 rows x 1 columns],\n",
       "                                           Product Title\n",
       " 0           anin bing women arlo desert road sweatshirt\n",
       " 1                       anin bing women vintag bing tee\n",
       " 2              anin bing women ramona sweatshirt ab x b\n",
       " 3     guylian belgian chocol gift box includ silki s...\n",
       " 4                         guylian belgian chocol g pack\n",
       " ...                                                 ...\n",
       " 2995  inflat dinosaur costum blow triceratop costum ...\n",
       " 2996  decalar adultkid size inflat trex dinosaur cos...\n",
       " 2997  livecool women har cupless cage sexi bra panti...\n",
       " 2998  women punk cut out har bodi full strappi linge...\n",
       " 2999  petmh women sexi cage bodi har lingeri set str...\n",
       " \n",
       " [3000 rows x 1 columns])"
      ]
     },
     "execution_count": 12,
     "metadata": {},
     "output_type": "execute_result"
    }
   ],
   "source": [
    "X,Y"
   ]
  },
  {
   "cell_type": "code",
   "execution_count": 13,
   "id": "00326c23",
   "metadata": {},
   "outputs": [],
   "source": [
    "tfidf_vectorizer = TfidfVectorizer()\n",
    "tfidf_productid = tfidf_vectorizer.fit_transform((Y['Product Title']))\n",
    "#Y_verctorized = pd.concat([Y,pd.DataFrame(Y_verctorized.toarray(),\n",
    "#                            columns=Y_verctorized.get_feature_names_out())],axis=1)"
   ]
  },
  {
   "cell_type": "code",
   "execution_count": 14,
   "id": "9d66019b",
   "metadata": {},
   "outputs": [],
   "source": [
    "def Search_system():\n",
    "    Search_String = input('What to search? :')\n",
    "    index = np.where(X_raw['Search Term'] == Search_String)[0][0]\n",
    "    Search_q = X_raw.iloc[[index]]\n",
    "    Search_q = Clean_Sequence(Search_q)\n",
    "    Search_tfidf = tfidf_vectorizer.transform(Search_q['Search Term'])\n",
    "    return [Search_tfidf,Search_String]"
   ]
  },
  {
   "cell_type": "code",
   "execution_count": 15,
   "id": "93314236",
   "metadata": {},
   "outputs": [],
   "source": [
    "def get_recommendation(top, df_all, scores, Search_String):\n",
    "    recommendation = pd.DataFrame(columns = ['Search Term',  'Results', 'score'])\n",
    "    count = 0\n",
    "    for i in top:\n",
    "        recommendation.at[count, 'Search Term'] = Search_String\n",
    "        recommendation.at[count, 'Results'] = df_all['Product Title'][i]\n",
    "        recommendation.at[count, 'score'] =  scores[count]\n",
    "        count += 1\n",
    "    return recommendation.loc[:4,]"
   ]
  },
  {
   "cell_type": "code",
   "execution_count": 16,
   "id": "e3f360d5",
   "metadata": {},
   "outputs": [
    {
     "name": "stdout",
     "output_type": "stream",
     "text": [
      "What to search? :anine bing\n"
     ]
    },
    {
     "name": "stderr",
     "output_type": "stream",
     "text": [
      "C:\\Users\\Ali\\AppData\\Local\\Temp\\ipykernel_22860\\1346602226.py:18: SettingWithCopyWarning: \n",
      "A value is trying to be set on a copy of a slice from a DataFrame.\n",
      "Try using .loc[row_indexer,col_indexer] = value instead\n",
      "\n",
      "See the caveats in the documentation: https://pandas.pydata.org/pandas-docs/stable/user_guide/indexing.html#returning-a-view-versus-a-copy\n",
      "  X.loc[:,'Search Term'] = products\n",
      "C:\\Users\\Ali\\AppData\\Local\\Temp\\ipykernel_22860\\1346602226.py:30: SettingWithCopyWarning: \n",
      "A value is trying to be set on a copy of a slice from a DataFrame.\n",
      "Try using .loc[row_indexer,col_indexer] = value instead\n",
      "\n",
      "See the caveats in the documentation: https://pandas.pydata.org/pandas-docs/stable/user_guide/indexing.html#returning-a-view-versus-a-copy\n",
      "  X.loc[:,'Search Term'] = products\n",
      "C:\\Users\\Ali\\AppData\\Local\\Temp\\ipykernel_22860\\1346602226.py:46: SettingWithCopyWarning: \n",
      "A value is trying to be set on a copy of a slice from a DataFrame.\n",
      "Try using .loc[row_indexer,col_indexer] = value instead\n",
      "\n",
      "See the caveats in the documentation: https://pandas.pydata.org/pandas-docs/stable/user_guide/indexing.html#returning-a-view-versus-a-copy\n",
      "  X.loc[:,'Search Term'] = products\n"
     ]
    },
    {
     "data": {
      "text/html": [
       "<div>\n",
       "<style scoped>\n",
       "    .dataframe tbody tr th:only-of-type {\n",
       "        vertical-align: middle;\n",
       "    }\n",
       "\n",
       "    .dataframe tbody tr th {\n",
       "        vertical-align: top;\n",
       "    }\n",
       "\n",
       "    .dataframe thead th {\n",
       "        text-align: right;\n",
       "    }\n",
       "</style>\n",
       "<table border=\"1\" class=\"dataframe\">\n",
       "  <thead>\n",
       "    <tr style=\"text-align: right;\">\n",
       "      <th></th>\n",
       "      <th>Search Term</th>\n",
       "      <th>Results</th>\n",
       "      <th>score</th>\n",
       "    </tr>\n",
       "  </thead>\n",
       "  <tbody>\n",
       "    <tr>\n",
       "      <th>0</th>\n",
       "      <td>anine bing</td>\n",
       "      <td>ANINE BING Women's Ramona Sweatshirt AB x to B</td>\n",
       "      <td>0.889665</td>\n",
       "    </tr>\n",
       "    <tr>\n",
       "      <th>1</th>\n",
       "      <td>anine bing</td>\n",
       "      <td>ANINE BING Women's Arlo Desert Road Sweatshirt</td>\n",
       "      <td>0.932085</td>\n",
       "    </tr>\n",
       "    <tr>\n",
       "      <th>2</th>\n",
       "      <td>anine bing</td>\n",
       "      <td>Aqua</td>\n",
       "      <td>1.0</td>\n",
       "    </tr>\n",
       "    <tr>\n",
       "      <th>3</th>\n",
       "      <td>anine bing</td>\n",
       "      <td>GIHOO 127PCS Olive Green Balloon Garland Arch ...</td>\n",
       "      <td>1.414214</td>\n",
       "    </tr>\n",
       "    <tr>\n",
       "      <th>4</th>\n",
       "      <td>anine bing</td>\n",
       "      <td>gmani I Fully Vaccinated Face Mask Washable Re...</td>\n",
       "      <td>1.414214</td>\n",
       "    </tr>\n",
       "  </tbody>\n",
       "</table>\n",
       "</div>"
      ],
      "text/plain": [
       "  Search Term                                            Results     score\n",
       "0  anine bing     ANINE BING Women's Ramona Sweatshirt AB x to B  0.889665\n",
       "1  anine bing     ANINE BING Women's Arlo Desert Road Sweatshirt  0.932085\n",
       "2  anine bing                                               Aqua       1.0\n",
       "3  anine bing  GIHOO 127PCS Olive Green Balloon Garland Arch ...  1.414214\n",
       "4  anine bing  gmani I Fully Vaccinated Face Mask Washable Re...  1.414214"
      ]
     },
     "execution_count": 16,
     "metadata": {},
     "output_type": "execute_result"
    }
   ],
   "source": [
    "KNN = NearestNeighbors(n_neighbors = 11)\n",
    "KNN.fit(tfidf_productid)\n",
    "Searched = Search_system()\n",
    "Search_tfidf,Search_string = Searched[0],Searched[1]\n",
    "NNs = KNN.kneighbors(Search_tfidf, return_distance=True)\n",
    "top = NNs[1][0][1:]\n",
    "index_score = NNs[0][0][1:]\n",
    "get_recommendation(top, Y_raw, index_score, Search_string)"
   ]
  }
 ],
 "metadata": {
  "kernelspec": {
   "display_name": "Task2_3",
   "language": "python",
   "name": "task2_3"
  },
  "language_info": {
   "codemirror_mode": {
    "name": "ipython",
    "version": 3
   },
   "file_extension": ".py",
   "mimetype": "text/x-python",
   "name": "python",
   "nbconvert_exporter": "python",
   "pygments_lexer": "ipython3",
   "version": "3.8.10"
  }
 },
 "nbformat": 4,
 "nbformat_minor": 5
}
